{
 "cells": [
  {
   "cell_type": "code",
   "execution_count": 1,
   "id": "active-abraham",
   "metadata": {},
   "outputs": [
    {
     "name": "stdout",
     "output_type": "stream",
     "text": [
      "{'Test': 0, 'Train': 1}\n",
      "['Test', 'Train']\n",
      "[0, 1]\n"
     ]
    }
   ],
   "source": [
    "import cv2,os\n",
    "data_path='DATASET'\n",
    "categories=os.listdir(data_path)\n",
    "labels=[i for i in range(len(categories))]\n",
    "\n",
    "label_dict=dict(zip(categories,labels)) #empty dictionary\n",
    "\n",
    "print(label_dict)\n",
    "print(categories)\n",
    "print(labels)"
   ]
  },
  {
   "cell_type": "code",
   "execution_count": 2,
   "id": "changing-limitation",
   "metadata": {},
   "outputs": [
    {
     "name": "stdout",
     "output_type": "stream",
     "text": [
      "['0', 'A', 'B', 'C', 'D', 'E', 'F', 'G', 'H', 'I', 'J', 'K', 'L', 'M', 'N', 'O', 'P', 'Q', 'R', 'S', 'T', 'U', 'V', 'W', 'X', 'Y', 'Z']\n",
      "[0, 1, 2, 3, 4, 5, 6, 7, 8, 9, 10, 11, 12, 13, 14, 15, 16, 17, 18, 19, 20, 21, 22, 23, 24, 25, 26]\n"
     ]
    }
   ],
   "source": [
    "data_path='DATASET/Train'\n",
    "classes_path=os.listdir(data_path)\n",
    "classesf=os.listdir(data_path)\n",
    "print(classesf)\n",
    "labels_classes=[i for i in range(len(classesf))]\n",
    "print(labels_classes)"
   ]
  },
  {
   "cell_type": "code",
   "execution_count": 3,
   "id": "velvet-melissa",
   "metadata": {},
   "outputs": [],
   "source": [
    "data_path='DATASET'"
   ]
  },
  {
   "cell_type": "code",
   "execution_count": 4,
   "id": "southwest-failing",
   "metadata": {},
   "outputs": [],
   "source": [
    "label_classes_dict=dict(zip(classesf,labels_classes))"
   ]
  },
  {
   "cell_type": "code",
   "execution_count": 5,
   "id": "piano-uruguay",
   "metadata": {},
   "outputs": [
    {
     "name": "stdout",
     "output_type": "stream",
     "text": [
      "{'0': 0, 'A': 1, 'B': 2, 'C': 3, 'D': 4, 'E': 5, 'F': 6, 'G': 7, 'H': 8, 'I': 9, 'J': 10, 'K': 11, 'L': 12, 'M': 13, 'N': 14, 'O': 15, 'P': 16, 'Q': 17, 'R': 18, 'S': 19, 'T': 20, 'U': 21, 'V': 22, 'W': 23, 'X': 24, 'Y': 25, 'Z': 26}\n"
     ]
    }
   ],
   "source": [
    "#print(labels_classes)\n",
    "#print(categories)\n",
    "print(label_classes_dict)"
   ]
  },
  {
   "cell_type": "code",
   "execution_count": 6,
   "id": "optical-profession",
   "metadata": {},
   "outputs": [],
   "source": [
    "import numpy as np"
   ]
  },
  {
   "cell_type": "code",
   "execution_count": 7,
   "id": "extraordinary-swaziland",
   "metadata": {},
   "outputs": [
    {
     "name": "stdout",
     "output_type": "stream",
     "text": [
      "DATASET\\Test\n",
      "['0', 'A', 'B', 'C', 'D', 'E', 'F', 'G', 'H', 'I', 'J', 'K', 'L', 'M', 'N', 'O', 'P', 'Q', 'R', 'S', 'T', 'U', 'V', 'W', 'X', 'Y', 'Z']\n",
      "DATASET\\Test\\0\n",
      "DATASET\\Test\\A\n",
      "DATASET\\Test\\B\n",
      "DATASET\\Test\\C\n",
      "DATASET\\Test\\D\n",
      "DATASET\\Test\\E\n",
      "DATASET\\Test\\F\n",
      "DATASET\\Test\\G\n",
      "DATASET\\Test\\H\n",
      "DATASET\\Test\\I\n",
      "DATASET\\Test\\J\n",
      "DATASET\\Test\\K\n",
      "DATASET\\Test\\L\n",
      "DATASET\\Test\\M\n",
      "DATASET\\Test\\N\n",
      "DATASET\\Test\\O\n",
      "DATASET\\Test\\P\n",
      "DATASET\\Test\\Q\n",
      "DATASET\\Test\\R\n",
      "DATASET\\Test\\S\n",
      "DATASET\\Test\\T\n",
      "DATASET\\Test\\U\n",
      "DATASET\\Test\\V\n",
      "DATASET\\Test\\W\n",
      "DATASET\\Test\\X\n",
      "DATASET\\Test\\Y\n",
      "DATASET\\Test\\Z\n",
      "DATASET\\Train\n",
      "['0', 'A', 'B', 'C', 'D', 'E', 'F', 'G', 'H', 'I', 'J', 'K', 'L', 'M', 'N', 'O', 'P', 'Q', 'R', 'S', 'T', 'U', 'V', 'W', 'X', 'Y', 'Z']\n",
      "DATASET\\Train\\0\n",
      "DATASET\\Train\\A\n",
      "DATASET\\Train\\B\n",
      "DATASET\\Train\\C\n",
      "DATASET\\Train\\D\n",
      "DATASET\\Train\\E\n",
      "DATASET\\Train\\F\n",
      "DATASET\\Train\\G\n",
      "DATASET\\Train\\H\n",
      "DATASET\\Train\\I\n",
      "DATASET\\Train\\J\n",
      "DATASET\\Train\\K\n",
      "DATASET\\Train\\L\n",
      "DATASET\\Train\\M\n",
      "DATASET\\Train\\N\n",
      "DATASET\\Train\\O\n",
      "DATASET\\Train\\P\n",
      "DATASET\\Train\\Q\n",
      "DATASET\\Train\\R\n",
      "DATASET\\Train\\S\n",
      "DATASET\\Train\\T\n",
      "DATASET\\Train\\U\n",
      "DATASET\\Train\\V\n",
      "DATASET\\Train\\W\n",
      "DATASET\\Train\\X\n",
      "DATASET\\Train\\Y\n",
      "DATASET\\Train\\Z\n"
     ]
    }
   ],
   "source": [
    "img_size=128\n",
    "data=[]\n",
    "target=[]\n",
    "c=0\n",
    "minValue = 70\n",
    "for category in categories:\n",
    "    \n",
    "    cat_path=os.path.join(data_path,category)\n",
    "    print(cat_path)\n",
    "    cat_names=os.listdir(cat_path)\n",
    "    print(cat_names)\n",
    "    for classes in cat_names:\n",
    "        folder_path=os.path.join(data_path,category,classes)\n",
    "        print(folder_path)\n",
    "        img_names=os.listdir(folder_path)\n",
    "        #print(img_names)\n",
    "        for img_name in img_names:\n",
    "            #print(img_name)\n",
    "            img_path=os.path.join(folder_path,img_name)\n",
    "            img=cv2.imread(img_path)\n",
    "            \n",
    "            try:\n",
    "                gray=cv2.cvtColor(img,cv2.COLOR_BGR2GRAY) \n",
    "                blur = cv2.GaussianBlur(gray,(5,5),2)\n",
    "                th3 = cv2.adaptiveThreshold(blur,255,cv2.ADAPTIVE_THRESH_GAUSSIAN_C,cv2.THRESH_BINARY_INV,11,2)\n",
    "                ret, res = cv2.threshold(th3, minValue, 255, cv2.THRESH_BINARY_INV+cv2.THRESH_OTSU)\n",
    "                #res=np.array(res)\n",
    "                #print(type(res))\n",
    "            #Converting the image into gray scale\n",
    "                resized=cv2.resize(res,(img_size,img_size))\n",
    "            #resizing the gray scale into 50x50, since we need a fixed common size for all the images in the dataset\n",
    "                data.append(resized)\n",
    "                #print(data)\n",
    "                target.append(label_classes_dict[classes])\n",
    "            except Exception as e:\n",
    "                print('Exception:',e)\n",
    "            \n",
    "            \n",
    "        \n",
    "        "
   ]
  },
  {
   "cell_type": "code",
   "execution_count": 8,
   "id": "adjusted-fluid",
   "metadata": {},
   "outputs": [],
   "source": [
    "datanp=np.array(data)"
   ]
  },
  {
   "cell_type": "code",
   "execution_count": 9,
   "id": "figured-consensus",
   "metadata": {},
   "outputs": [
    {
     "data": {
      "text/plain": [
       "(17113, 128, 128)"
      ]
     },
     "execution_count": 9,
     "metadata": {},
     "output_type": "execute_result"
    }
   ],
   "source": [
    "datanp.shape"
   ]
  },
  {
   "cell_type": "code",
   "execution_count": 10,
   "id": "broken-screening",
   "metadata": {},
   "outputs": [
    {
     "data": {
      "text/plain": [
       "(17113,)"
      ]
     },
     "execution_count": 10,
     "metadata": {},
     "output_type": "execute_result"
    }
   ],
   "source": [
    "targetnp=np.array(target)\n",
    "\n",
    "targetnp.shape"
   ]
  },
  {
   "cell_type": "code",
   "execution_count": 11,
   "id": "secret-hollow",
   "metadata": {},
   "outputs": [],
   "source": [
    "import numpy as np\n",
    "\n",
    "data=np.array(data)/255.0\n",
    "data=np.reshape(data,(data.shape[0],img_size,img_size,1))\n",
    "target=np.array(target)\n",
    "\n",
    "from keras.utils import np_utils\n",
    "\n",
    "new_target=np_utils.to_categorical(target)"
   ]
  },
  {
   "cell_type": "code",
   "execution_count": 12,
   "id": "nearby-greek",
   "metadata": {},
   "outputs": [
    {
     "data": {
      "text/plain": [
       "(17113, 27)"
      ]
     },
     "execution_count": 12,
     "metadata": {},
     "output_type": "execute_result"
    }
   ],
   "source": [
    "new_target.shape"
   ]
  },
  {
   "cell_type": "code",
   "execution_count": 13,
   "id": "aboriginal-birth",
   "metadata": {},
   "outputs": [],
   "source": [
    "np.save('data_img',data)\n",
    "np.save('target',new_target)"
   ]
  },
  {
   "cell_type": "code",
   "execution_count": 14,
   "id": "theoretical-domain",
   "metadata": {},
   "outputs": [],
   "source": [
    "data=np.load('data_img.npy')\n",
    "target=np.load('target.npy')"
   ]
  },
  {
   "cell_type": "code",
   "execution_count": 15,
   "id": "stretch-joseph",
   "metadata": {},
   "outputs": [],
   "source": [
    "from sklearn.model_selection import train_test_split\n",
    "train_data,test_data,train_target,test_target=train_test_split(data,new_target,test_size=0.2)"
   ]
  },
  {
   "cell_type": "code",
   "execution_count": 17,
   "id": "informal-wisconsin",
   "metadata": {},
   "outputs": [
    {
     "name": "stdout",
     "output_type": "stream",
     "text": [
      "Model: \"sequential_1\"\n",
      "_________________________________________________________________\n",
      "Layer (type)                 Output Shape              Param #   \n",
      "=================================================================\n",
      "conv2d_1 (Conv2D)            (None, 126, 126, 32)      320       \n",
      "_________________________________________________________________\n",
      "average_pooling2d (AveragePo (None, 63, 63, 32)        0         \n",
      "_________________________________________________________________\n",
      "conv2d_2 (Conv2D)            (None, 61, 61, 32)        9248      \n",
      "_________________________________________________________________\n",
      "average_pooling2d_1 (Average (None, 30, 30, 32)        0         \n",
      "_________________________________________________________________\n",
      "flatten (Flatten)            (None, 28800)             0         \n",
      "_________________________________________________________________\n",
      "dense (Dense)                (None, 128)               3686528   \n",
      "_________________________________________________________________\n",
      "dropout (Dropout)            (None, 128)               0         \n",
      "_________________________________________________________________\n",
      "dense_1 (Dense)              (None, 96)                12384     \n",
      "_________________________________________________________________\n",
      "dropout_1 (Dropout)          (None, 96)                0         \n",
      "_________________________________________________________________\n",
      "dense_2 (Dense)              (None, 64)                6208      \n",
      "_________________________________________________________________\n",
      "dense_3 (Dense)              (None, 27)                1755      \n",
      "=================================================================\n",
      "Total params: 3,716,443\n",
      "Trainable params: 3,716,443\n",
      "Non-trainable params: 0\n",
      "_________________________________________________________________\n"
     ]
    }
   ],
   "source": [
    "from keras.models import Sequential\n",
    "from keras.layers import Convolution2D\n",
    "\n",
    "from keras.layers import AveragePooling2D\n",
    "from keras.layers import Flatten\n",
    "from keras.layers import Dense , Dropout\n",
    "import os\n",
    "os.environ[\"CUDA_VISIBLE_DEVICES\"] = \"1\"\n",
    "sz = 128\n",
    "\n",
    "\n",
    "classifier = Sequential()\n",
    "\n",
    "# First convolution layer and pooling\n",
    "classifier.add(Convolution2D(32, (3, 3), input_shape=(sz, sz, 1), activation='relu'))\n",
    "classifier.add(AveragePooling2D(pool_size=(2, 2)))\n",
    "# Second convolution layer and pooling\n",
    "classifier.add(Convolution2D(32, (3, 3), activation='relu'))\n",
    "# input_shape is going to be the pooled feature maps from the previous convolution layer\n",
    "classifier.add(AveragePooling2D(pool_size=(2, 2)))\n",
    "\n",
    "# Flattening the layers\n",
    "classifier.add(Flatten())\n",
    "\n",
    "# Adding a fully connected layer\n",
    "classifier.add(Dense(units=128, activation='relu'))\n",
    "classifier.add(Dropout(0.40))\n",
    "classifier.add(Dense(units=96, activation='relu'))\n",
    "classifier.add(Dropout(0.40))\n",
    "classifier.add(Dense(units=64, activation='relu'))\n",
    "classifier.add(Dense(units=27, activation='softmax')) # softmax for more than 2\n",
    "\n",
    "# Compiling the CNN\n",
    "classifier.compile(optimizer='adam', loss='categorical_crossentropy', metrics=['accuracy']) # categorical_crossentropy for more than 2\n",
    "\n",
    "\n",
    "# Step 2 - Preparing the train/test data and training the model\n",
    "classifier.summary()"
   ]
  },
  {
   "cell_type": "code",
   "execution_count": 18,
   "id": "absolute-ghost",
   "metadata": {},
   "outputs": [],
   "source": [
    "from keras.callbacks import ModelCheckpoint"
   ]
  },
  {
   "cell_type": "code",
   "execution_count": 21,
   "id": "bound-mileage",
   "metadata": {},
   "outputs": [
    {
     "name": "stdout",
     "output_type": "stream",
     "text": [
      "Epoch 1/30\n",
      "300/300 [==============================] - 93s 312ms/step - loss: 0.0289 - accuracy: 0.9910 - val_loss: 0.0099 - val_accuracy: 0.9976\n",
      "INFO:tensorflow:Assets written to: model-001.model\\assets\n",
      "Epoch 2/30\n",
      "300/300 [==============================] - 95s 317ms/step - loss: 0.0254 - accuracy: 0.9923 - val_loss: 0.0078 - val_accuracy: 0.9983\n",
      "INFO:tensorflow:Assets written to: model-002.model\\assets\n",
      "Epoch 3/30\n",
      "300/300 [==============================] - 92s 308ms/step - loss: 0.0211 - accuracy: 0.9932 - val_loss: 0.0099 - val_accuracy: 0.9985\n",
      "Epoch 4/30\n",
      "300/300 [==============================] - 96s 322ms/step - loss: 0.0261 - accuracy: 0.9927 - val_loss: 0.0116 - val_accuracy: 0.9978\n",
      "Epoch 5/30\n",
      "300/300 [==============================] - 95s 316ms/step - loss: 0.0303 - accuracy: 0.9912 - val_loss: 0.0071 - val_accuracy: 0.9988\n",
      "INFO:tensorflow:Assets written to: model-005.model\\assets\n",
      "Epoch 6/30\n",
      "300/300 [==============================] - 94s 314ms/step - loss: 0.0257 - accuracy: 0.9917 - val_loss: 0.0075 - val_accuracy: 0.9983\n",
      "Epoch 7/30\n",
      "300/300 [==============================] - 98s 328ms/step - loss: 0.0173 - accuracy: 0.9939 - val_loss: 0.0089 - val_accuracy: 0.9981\n",
      "Epoch 8/30\n",
      "300/300 [==============================] - 96s 318ms/step - loss: 0.0189 - accuracy: 0.9942 - val_loss: 0.0069 - val_accuracy: 0.9985\n",
      "INFO:tensorflow:Assets written to: model-008.model\\assets\n",
      "Epoch 9/30\n",
      "300/300 [==============================] - 90s 301ms/step - loss: 0.0250 - accuracy: 0.9919 - val_loss: 0.0079 - val_accuracy: 0.9985\n",
      "Epoch 10/30\n",
      "300/300 [==============================] - 90s 299ms/step - loss: 0.0257 - accuracy: 0.9921 - val_loss: 0.0091 - val_accuracy: 0.9976\n",
      "Epoch 11/30\n",
      "300/300 [==============================] - 90s 302ms/step - loss: 0.0169 - accuracy: 0.9947 - val_loss: 0.0086 - val_accuracy: 0.9983\n",
      "Epoch 12/30\n",
      "300/300 [==============================] - 89s 295ms/step - loss: 0.0217 - accuracy: 0.9935 - val_loss: 0.0075 - val_accuracy: 0.9983\n",
      "Epoch 13/30\n",
      "300/300 [==============================] - 88s 294ms/step - loss: 0.0196 - accuracy: 0.9947 - val_loss: 0.0083 - val_accuracy: 0.9983\n",
      "Epoch 14/30\n",
      "300/300 [==============================] - 90s 301ms/step - loss: 0.0236 - accuracy: 0.9927 - val_loss: 0.0080 - val_accuracy: 0.9985\n",
      "Epoch 15/30\n",
      "300/300 [==============================] - 90s 301ms/step - loss: 0.0205 - accuracy: 0.9945 - val_loss: 0.0092 - val_accuracy: 0.9983\n",
      "Epoch 16/30\n",
      "300/300 [==============================] - 88s 294ms/step - loss: 0.0204 - accuracy: 0.9943 - val_loss: 0.0085 - val_accuracy: 0.9981\n",
      "Epoch 17/30\n",
      "300/300 [==============================] - 92s 306ms/step - loss: 0.0190 - accuracy: 0.9943 - val_loss: 0.0094 - val_accuracy: 0.9978\n",
      "Epoch 18/30\n",
      "300/300 [==============================] - 92s 307ms/step - loss: 0.0238 - accuracy: 0.9928 - val_loss: 0.0073 - val_accuracy: 0.9985\n",
      "Epoch 19/30\n",
      "300/300 [==============================] - 91s 303ms/step - loss: 0.0201 - accuracy: 0.9942 - val_loss: 0.0088 - val_accuracy: 0.9978\n",
      "Epoch 20/30\n",
      "300/300 [==============================] - 102s 341ms/step - loss: 0.0242 - accuracy: 0.9932 - val_loss: 0.0069 - val_accuracy: 0.9983\n",
      "INFO:tensorflow:Assets written to: model-020.model\\assets\n",
      "Epoch 21/30\n",
      "300/300 [==============================] - 97s 324ms/step - loss: 0.0166 - accuracy: 0.9948 - val_loss: 0.0085 - val_accuracy: 0.9985\n",
      "Epoch 22/30\n",
      "300/300 [==============================] - 98s 326ms/step - loss: 0.0174 - accuracy: 0.9947 - val_loss: 0.0090 - val_accuracy: 0.9981\n",
      "Epoch 23/30\n",
      "300/300 [==============================] - 96s 320ms/step - loss: 0.0210 - accuracy: 0.9939 - val_loss: 0.0081 - val_accuracy: 0.9985\n",
      "Epoch 24/30\n",
      "300/300 [==============================] - 103s 345ms/step - loss: 0.0181 - accuracy: 0.9942 - val_loss: 0.0071 - val_accuracy: 0.9985\n",
      "Epoch 25/30\n",
      "300/300 [==============================] - 97s 322ms/step - loss: 0.0172 - accuracy: 0.9945 - val_loss: 0.0076 - val_accuracy: 0.9983\n",
      "Epoch 26/30\n",
      "300/300 [==============================] - 96s 320ms/step - loss: 0.0162 - accuracy: 0.9957 - val_loss: 0.0069 - val_accuracy: 0.9990\n",
      "INFO:tensorflow:Assets written to: model-026.model\\assets\n",
      "Epoch 27/30\n",
      "300/300 [==============================] - 89s 297ms/step - loss: 0.0195 - accuracy: 0.9946 - val_loss: 0.0048 - val_accuracy: 0.9988\n",
      "INFO:tensorflow:Assets written to: model-027.model\\assets\n",
      "Epoch 28/30\n",
      "300/300 [==============================] - 89s 295ms/step - loss: 0.0203 - accuracy: 0.9933 - val_loss: 0.0068 - val_accuracy: 0.9988\n",
      "Epoch 29/30\n",
      "300/300 [==============================] - 89s 298ms/step - loss: 0.0189 - accuracy: 0.9944 - val_loss: 0.0090 - val_accuracy: 0.9985\n",
      "Epoch 30/30\n",
      "300/300 [==============================] - 89s 296ms/step - loss: 0.0227 - accuracy: 0.9932 - val_loss: 0.0064 - val_accuracy: 0.9983\n"
     ]
    }
   ],
   "source": [
    "checkpoint = ModelCheckpoint('model-{epoch:03d}.model',monitor='val_loss',verbose=0,save_best_only=True,mode='auto')\n",
    "history=classifier.fit(train_data,train_target,shuffle=True,epochs=30,callbacks=[checkpoint],validation_split=0.3)"
   ]
  },
  {
   "cell_type": "code",
   "execution_count": 22,
   "id": "representative-exploration",
   "metadata": {},
   "outputs": [
    {
     "name": "stdout",
     "output_type": "stream",
     "text": [
      "107/107 [==============================] - 9s 80ms/step - loss: 0.0025 - accuracy: 0.9994\n",
      "[0.0024562838952988386, 0.9994156956672668]\n"
     ]
    }
   ],
   "source": [
    "print(classifier.evaluate(test_data,test_target))"
   ]
  },
  {
   "cell_type": "code",
   "execution_count": 23,
   "id": "treated-jimmy",
   "metadata": {},
   "outputs": [
    {
     "ename": "NameError",
     "evalue": "name 'plt' is not defined",
     "output_type": "error",
     "traceback": [
      "\u001b[1;31m---------------------------------------------------------------------------\u001b[0m",
      "\u001b[1;31mNameError\u001b[0m                                 Traceback (most recent call last)",
      "\u001b[1;32m<ipython-input-23-099642be34d6>\u001b[0m in \u001b[0;36m<module>\u001b[1;34m\u001b[0m\n\u001b[0;32m      2\u001b[0m \u001b[0mH\u001b[0m\u001b[1;33m=\u001b[0m\u001b[0mhistory\u001b[0m\u001b[1;33m\u001b[0m\u001b[1;33m\u001b[0m\u001b[0m\n\u001b[0;32m      3\u001b[0m \u001b[1;33m\u001b[0m\u001b[0m\n\u001b[1;32m----> 4\u001b[1;33m \u001b[0mplt\u001b[0m\u001b[1;33m.\u001b[0m\u001b[0mstyle\u001b[0m\u001b[1;33m.\u001b[0m\u001b[0muse\u001b[0m\u001b[1;33m(\u001b[0m\u001b[1;34m\"ggplot\"\u001b[0m\u001b[1;33m)\u001b[0m\u001b[1;33m\u001b[0m\u001b[1;33m\u001b[0m\u001b[0m\n\u001b[0m\u001b[0;32m      5\u001b[0m \u001b[0mplt\u001b[0m\u001b[1;33m.\u001b[0m\u001b[0mfigure\u001b[0m\u001b[1;33m(\u001b[0m\u001b[1;33m)\u001b[0m\u001b[1;33m\u001b[0m\u001b[1;33m\u001b[0m\u001b[0m\n\u001b[0;32m      6\u001b[0m \u001b[0mplt\u001b[0m\u001b[1;33m.\u001b[0m\u001b[0mplot\u001b[0m\u001b[1;33m(\u001b[0m\u001b[0mnp\u001b[0m\u001b[1;33m.\u001b[0m\u001b[0marange\u001b[0m\u001b[1;33m(\u001b[0m\u001b[1;36m0\u001b[0m\u001b[1;33m,\u001b[0m \u001b[0mN\u001b[0m\u001b[1;33m)\u001b[0m\u001b[1;33m,\u001b[0m \u001b[0mH\u001b[0m\u001b[1;33m.\u001b[0m\u001b[0mhistory\u001b[0m\u001b[1;33m[\u001b[0m\u001b[1;34m\"loss\"\u001b[0m\u001b[1;33m]\u001b[0m\u001b[1;33m,\u001b[0m \u001b[0mlabel\u001b[0m\u001b[1;33m=\u001b[0m\u001b[1;34m\"train_loss\"\u001b[0m\u001b[1;33m)\u001b[0m\u001b[1;33m\u001b[0m\u001b[1;33m\u001b[0m\u001b[0m\n",
      "\u001b[1;31mNameError\u001b[0m: name 'plt' is not defined"
     ]
    }
   ],
   "source": [
    "N = 20\n",
    "H=history\n",
    "\n",
    "plt.style.use(\"ggplot\")\n",
    "plt.figure()\n",
    "plt.plot(np.arange(0, N), H.history[\"loss\"], label=\"train_loss\")\n",
    "plt.plot(np.arange(0, N), H.history[\"val_loss\"], label=\"val_loss\")\n",
    "plt.plot(np.arange(0, N), H.history[\"accuracy\"], label=\"train_acc\")\n",
    "plt.plot(np.arange(0, N), H.history[\"val_accuracy\"], label=\"val_acc\")\n",
    "plt.title(\"Training Loss and Accuracy\")\n",
    "plt.xlabel(\"Epoch #\")\n",
    "plt.ylabel(\"Loss/Accuracy\")\n",
    "plt.legend(loc=\"lower left\")\n",
    "plt.savefig('evaluation.png')"
   ]
  },
  {
   "cell_type": "code",
   "execution_count": 24,
   "id": "tracked-electronics",
   "metadata": {},
   "outputs": [
    {
     "name": "stdout",
     "output_type": "stream",
     "text": [
      "[INFO] saving mask detector model...\n",
      "Done !\n"
     ]
    }
   ],
   "source": [
    "# serialize the model to disk\n",
    "print(\"[INFO] saving mask detector model...\")\n",
    "classifier.save('classifier.h5')\n",
    "print(\"Done !\")"
   ]
  },
  {
   "cell_type": "code",
   "execution_count": 24,
   "id": "violent-price",
   "metadata": {},
   "outputs": [
    {
     "data": {
      "image/png": "[encoded data removed]",
      "text/plain": [
       "<Figure size 432x288 with 1 Axes>"
      ]
     },
     "metadata": {
      "needs_background": "light"
     },
     "output_type": "display_data"
    }
   ],
   "source": [
    "import matplotlib.pyplot as plt\n",
    "plt.plot(history.history['loss'])\n",
    "plt.plot(history.history['val_loss'])\n",
    "plt.xlabel('epochs')\n",
    "plt.ylabel('Loss')\n",
    "plt.legend(['train_loss','val_loss'], loc=0)\n",
    "plt.show()"
   ]
  },
  {
   "cell_type": "code",
   "execution_count": 25,
   "id": "utility-denver",
   "metadata": {},
   "outputs": [
    {
     "data": {
      "image/png": "[encoded data removed]",
      "text/plain": [
       "<Figure size 432x288 with 1 Axes>"
      ]
     },
     "metadata": {
      "needs_background": "light"
     },
     "output_type": "display_data"
    }
   ],
   "source": [
    "import matplotlib.pyplot as plt\n",
    "plt.plot(history.history['accuracy'])\n",
    "plt.plot(history.history['val_accuracy'])\n",
    "plt.xlabel('epochs')\n",
    "plt.ylabel('Accuracy')\n",
    "plt.legend(['train_accuracy','val_accuracy'], loc=0)\n",
    "plt.show()"
   ]
  },
  {
   "cell_type": "code",
   "execution_count": null,
   "id": "alleged-lending",
   "metadata": {},
   "outputs": [],
   "source": []
  }
 ],
 "metadata": {
  "kernelspec": {
   "display_name": "Python 3",
   "language": "python",
   "name": "python3"
  },
  "language_info": {
   "codemirror_mode": {
    "name": "ipython",
    "version": 3
   },
   "file_extension": ".py",
   "mimetype": "text/x-python",
   "name": "python",
   "nbconvert_exporter": "python",
   "pygments_lexer": "ipython3",
   "version": "3.8.11"
  }
 },
 "nbformat": 4,
 "nbformat_minor": 5
}
